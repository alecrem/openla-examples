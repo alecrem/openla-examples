{
 "cells": [
  {
   "cell_type": "code",
   "execution_count": 1,
   "metadata": {},
   "outputs": [],
   "source": [
    "# https://limu.ait.kyushu-u.ac.jp/~openLA/jupyter_examples/example_event_stream.html\n",
    "import OpenLA as la\n",
    "files_dir = '../../OpenLA/dummy_dataset'\n",
    "course_info, event_stream = la.start_analysis(files_dir=files_dir, course_id=\"A\")"
   ]
  },
  {
   "cell_type": "code",
   "execution_count": 2,
   "metadata": {},
   "outputs": [
    {
     "data": {
      "text/html": [
       "<div>\n",
       "<style scoped>\n",
       "    .dataframe tbody tr th:only-of-type {\n",
       "        vertical-align: middle;\n",
       "    }\n",
       "\n",
       "    .dataframe tbody tr th {\n",
       "        vertical-align: top;\n",
       "    }\n",
       "\n",
       "    .dataframe thead th {\n",
       "        text-align: right;\n",
       "    }\n",
       "</style>\n",
       "<table border=\"1\" class=\"dataframe\">\n",
       "  <thead>\n",
       "    <tr style=\"text-align: right;\">\n",
       "      <th></th>\n",
       "      <th>userid</th>\n",
       "      <th>contentsid</th>\n",
       "      <th>operationname</th>\n",
       "      <th>pageno</th>\n",
       "      <th>marker</th>\n",
       "      <th>memo_length</th>\n",
       "      <th>devicecode</th>\n",
       "      <th>eventtime</th>\n",
       "    </tr>\n",
       "  </thead>\n",
       "  <tbody>\n",
       "    <tr>\n",
       "      <th>0</th>\n",
       "      <td>A_U1</td>\n",
       "      <td>C1</td>\n",
       "      <td>PREV</td>\n",
       "      <td>10</td>\n",
       "      <td>NaN</td>\n",
       "      <td>0</td>\n",
       "      <td>tablet</td>\n",
       "      <td>2018-04-09 10:57:15</td>\n",
       "    </tr>\n",
       "    <tr>\n",
       "      <th>1</th>\n",
       "      <td>A_U1</td>\n",
       "      <td>C1</td>\n",
       "      <td>PREV</td>\n",
       "      <td>9</td>\n",
       "      <td>NaN</td>\n",
       "      <td>0</td>\n",
       "      <td>tablet</td>\n",
       "      <td>2018-04-09 11:00:59</td>\n",
       "    </tr>\n",
       "    <tr>\n",
       "      <th>2</th>\n",
       "      <td>A_U1</td>\n",
       "      <td>C1</td>\n",
       "      <td>PREV</td>\n",
       "      <td>8</td>\n",
       "      <td>NaN</td>\n",
       "      <td>0</td>\n",
       "      <td>tablet</td>\n",
       "      <td>2018-04-09 11:03:31</td>\n",
       "    </tr>\n",
       "    <tr>\n",
       "      <th>3</th>\n",
       "      <td>A_U1</td>\n",
       "      <td>C1</td>\n",
       "      <td>PREV</td>\n",
       "      <td>30</td>\n",
       "      <td>NaN</td>\n",
       "      <td>0</td>\n",
       "      <td>tablet</td>\n",
       "      <td>2018-04-10 10:14:12</td>\n",
       "    </tr>\n",
       "    <tr>\n",
       "      <th>4</th>\n",
       "      <td>A_U1</td>\n",
       "      <td>C1</td>\n",
       "      <td>PREV</td>\n",
       "      <td>29</td>\n",
       "      <td>NaN</td>\n",
       "      <td>0</td>\n",
       "      <td>tablet</td>\n",
       "      <td>2018-04-10 10:27:24</td>\n",
       "    </tr>\n",
       "    <tr>\n",
       "      <th>...</th>\n",
       "      <td>...</td>\n",
       "      <td>...</td>\n",
       "      <td>...</td>\n",
       "      <td>...</td>\n",
       "      <td>...</td>\n",
       "      <td>...</td>\n",
       "      <td>...</td>\n",
       "      <td>...</td>\n",
       "    </tr>\n",
       "    <tr>\n",
       "      <th>263279</th>\n",
       "      <td>A_U99</td>\n",
       "      <td>C8</td>\n",
       "      <td>NEXT</td>\n",
       "      <td>3</td>\n",
       "      <td>NaN</td>\n",
       "      <td>0</td>\n",
       "      <td>pc</td>\n",
       "      <td>2018-06-05 16:16:18</td>\n",
       "    </tr>\n",
       "    <tr>\n",
       "      <th>263280</th>\n",
       "      <td>A_U99</td>\n",
       "      <td>C8</td>\n",
       "      <td>ADD MARKER</td>\n",
       "      <td>4</td>\n",
       "      <td>difficult</td>\n",
       "      <td>0</td>\n",
       "      <td>pc</td>\n",
       "      <td>2018-06-05 16:18:34</td>\n",
       "    </tr>\n",
       "    <tr>\n",
       "      <th>263281</th>\n",
       "      <td>A_U99</td>\n",
       "      <td>C8</td>\n",
       "      <td>NEXT</td>\n",
       "      <td>4</td>\n",
       "      <td>NaN</td>\n",
       "      <td>0</td>\n",
       "      <td>pc</td>\n",
       "      <td>2018-06-05 16:19:24</td>\n",
       "    </tr>\n",
       "    <tr>\n",
       "      <th>263282</th>\n",
       "      <td>A_U99</td>\n",
       "      <td>C8</td>\n",
       "      <td>NEXT</td>\n",
       "      <td>5</td>\n",
       "      <td>NaN</td>\n",
       "      <td>0</td>\n",
       "      <td>pc</td>\n",
       "      <td>2018-06-05 16:20:45</td>\n",
       "    </tr>\n",
       "    <tr>\n",
       "      <th>263283</th>\n",
       "      <td>A_U99</td>\n",
       "      <td>C8</td>\n",
       "      <td>PREV</td>\n",
       "      <td>6</td>\n",
       "      <td>NaN</td>\n",
       "      <td>0</td>\n",
       "      <td>pc</td>\n",
       "      <td>2018-06-05 16:21:03</td>\n",
       "    </tr>\n",
       "  </tbody>\n",
       "</table>\n",
       "<p>263284 rows × 8 columns</p>\n",
       "</div>"
      ],
      "text/plain": [
       "       userid contentsid operationname  pageno     marker  memo_length  \\\n",
       "0        A_U1         C1          PREV      10        NaN            0   \n",
       "1        A_U1         C1          PREV       9        NaN            0   \n",
       "2        A_U1         C1          PREV       8        NaN            0   \n",
       "3        A_U1         C1          PREV      30        NaN            0   \n",
       "4        A_U1         C1          PREV      29        NaN            0   \n",
       "...       ...        ...           ...     ...        ...          ...   \n",
       "263279  A_U99         C8          NEXT       3        NaN            0   \n",
       "263280  A_U99         C8    ADD MARKER       4  difficult            0   \n",
       "263281  A_U99         C8          NEXT       4        NaN            0   \n",
       "263282  A_U99         C8          NEXT       5        NaN            0   \n",
       "263283  A_U99         C8          PREV       6        NaN            0   \n",
       "\n",
       "       devicecode            eventtime  \n",
       "0          tablet  2018-04-09 10:57:15  \n",
       "1          tablet  2018-04-09 11:00:59  \n",
       "2          tablet  2018-04-09 11:03:31  \n",
       "3          tablet  2018-04-10 10:14:12  \n",
       "4          tablet  2018-04-10 10:27:24  \n",
       "...           ...                  ...  \n",
       "263279         pc  2018-06-05 16:16:18  \n",
       "263280         pc  2018-06-05 16:18:34  \n",
       "263281         pc  2018-06-05 16:19:24  \n",
       "263282         pc  2018-06-05 16:20:45  \n",
       "263283         pc  2018-06-05 16:21:03  \n",
       "\n",
       "[263284 rows x 8 columns]"
      ]
     },
     "execution_count": 2,
     "metadata": {},
     "output_type": "execute_result"
    }
   ],
   "source": [
    "event_stream.df"
   ]
  },
  {
   "cell_type": "code",
   "execution_count": 3,
   "metadata": {},
   "outputs": [
    {
     "data": {
      "text/plain": [
       "118"
      ]
     },
     "execution_count": 3,
     "metadata": {},
     "output_type": "execute_result"
    }
   ],
   "source": [
    "event_stream.num_users()"
   ]
  },
  {
   "cell_type": "code",
   "execution_count": 4,
   "metadata": {},
   "outputs": [
    {
     "data": {
      "text/plain": [
       "['A_U1',\n",
       " 'A_U10',\n",
       " 'A_U100',\n",
       " 'A_U101',\n",
       " 'A_U102',\n",
       " 'A_U103',\n",
       " 'A_U104',\n",
       " 'A_U105',\n",
       " 'A_U106',\n",
       " 'A_U107']"
      ]
     },
     "execution_count": 4,
     "metadata": {},
     "output_type": "execute_result"
    }
   ],
   "source": [
    "event_stream.user_id()[:10]"
   ]
  },
  {
   "cell_type": "code",
   "execution_count": 5,
   "metadata": {},
   "outputs": [
    {
     "data": {
      "text/plain": [
       "['C1', 'C2', 'C3', 'C4', 'C5', 'C7', 'C8', 'C6']"
      ]
     },
     "execution_count": 5,
     "metadata": {},
     "output_type": "execute_result"
    }
   ],
   "source": [
    "event_stream.contents_id()"
   ]
  },
  {
   "cell_type": "code",
   "execution_count": 6,
   "metadata": {},
   "outputs": [
    {
     "data": {
      "text/plain": [
       "['PREV',\n",
       " 'NEXT',\n",
       " 'CLOSE',\n",
       " 'PAGE_JUMP',\n",
       " 'OPEN',\n",
       " 'BOOKMARK_JUMP',\n",
       " 'ADD BOOKMARK',\n",
       " 'ADD MARKER',\n",
       " 'DELETE MARKER',\n",
       " 'DELETE BOOKMARK',\n",
       " 'ADD MEMO',\n",
       " 'DELETE_MEMO',\n",
       " 'CHANGE MEMO',\n",
       " 'SEARCH',\n",
       " 'SEARCH_JUMP',\n",
       " 'LINK_CLICK']"
      ]
     },
     "execution_count": 6,
     "metadata": {},
     "output_type": "execute_result"
    }
   ],
   "source": [
    "event_stream.operation_name()"
   ]
  },
  {
   "cell_type": "code",
   "execution_count": 8,
   "metadata": {},
   "outputs": [
    {
     "data": {
      "text/plain": [
       "{'NEXT': 936,\n",
       " 'PREV': 463,\n",
       " 'PAGE_JUMP': 25,\n",
       " 'OPEN': 22,\n",
       " 'CLOSE': 8,\n",
       " 'ADD BOOKMARK': 8,\n",
       " 'BOOKMARK_JUMP': 3,\n",
       " 'ADD MARKER': 2,\n",
       " 'DELETE MARKER': 1,\n",
       " 'DELETE BOOKMARK': 1}"
      ]
     },
     "execution_count": 8,
     "metadata": {},
     "output_type": "execute_result"
    }
   ],
   "source": [
    "event_stream.operation_count(user_id=\"A_U1\")"
   ]
  },
  {
   "cell_type": "code",
   "execution_count": 10,
   "metadata": {},
   "outputs": [
    {
     "data": {
      "text/plain": [
       "147"
      ]
     },
     "execution_count": 10,
     "metadata": {},
     "output_type": "execute_result"
    }
   ],
   "source": [
    "event_stream.operation_count(operation_name=\"NEXT\",\n",
    "                             user_id=\"A_U2\",\n",
    "                             contents_id=\"C1\")"
   ]
  },
  {
   "cell_type": "code",
   "execution_count": 11,
   "metadata": {},
   "outputs": [
    {
     "data": {
      "text/plain": [
       "['difficult', 'important']"
      ]
     },
     "execution_count": 11,
     "metadata": {},
     "output_type": "execute_result"
    }
   ],
   "source": [
    "event_stream.marker_type()"
   ]
  },
  {
   "cell_type": "code",
   "execution_count": 12,
   "metadata": {},
   "outputs": [
    {
     "data": {
      "text/plain": [
       "['tablet', 'pc', 'mobile']"
      ]
     },
     "execution_count": 12,
     "metadata": {},
     "output_type": "execute_result"
    }
   ],
   "source": [
    "event_stream.device_code()"
   ]
  }
 ],
 "metadata": {
  "interpreter": {
   "hash": "e7cb1b9ae4d417fedf7f40a8eec98f7cfbd359e096bd857395a915f4609834ce"
  },
  "kernelspec": {
   "display_name": "Python 3.8.11 ('base')",
   "language": "python",
   "name": "python3"
  },
  "language_info": {
   "codemirror_mode": {
    "name": "ipython",
    "version": 3
   },
   "file_extension": ".py",
   "mimetype": "text/x-python",
   "name": "python",
   "nbconvert_exporter": "python",
   "pygments_lexer": "ipython3",
   "version": "3.8.11"
  },
  "orig_nbformat": 4
 },
 "nbformat": 4,
 "nbformat_minor": 2
}
