{
 "cells": [
  {
   "cell_type": "code",
   "execution_count": 19,
   "metadata": {},
   "outputs": [],
   "source": [
    "import OpenLA as la\n",
    "# https://limu.ait.kyushu-u.ac.jp/~openLA/jupyter_examples/example_course_information.html\n",
    "files_dir = '/Users/alejandrocremadesrocamora/repos/OpenLA/dummy_dataset'\n",
    "course_info = la.CourseInformation(files_dir=files_dir, course_id=\"A\")"
   ]
  },
  {
   "cell_type": "code",
   "execution_count": 5,
   "metadata": {},
   "outputs": [
    {
     "name": "stdout",
     "output_type": "stream",
     "text": [
      "['C1', 'C2', 'C3', 'C4', 'C5', 'C6', 'C7', 'C8']\n",
      "[1, 2, 3, 4, 5, 6, 7, 8]\n",
      "['A_U1', 'A_U10', 'A_U100', 'A_U101']\n"
     ]
    }
   ],
   "source": [
    "users = course_info.user_id()\n",
    "contents = course_info.contents_id()\n",
    "lectures = course_info.lecture_week()\n",
    "print(contents)\n",
    "print(lectures)\n",
    "print(users[:4])"
   ]
  },
  {
   "cell_type": "code",
   "execution_count": 6,
   "metadata": {},
   "outputs": [
    {
     "data": {
      "text/plain": [
       "[2, 8]"
      ]
     },
     "execution_count": 6,
     "metadata": {},
     "output_type": "execute_result"
    }
   ],
   "source": [
    "course_info.contents_id_to_lecture_week(contents_id=['C2', 'C8'])"
   ]
  },
  {
   "cell_type": "code",
   "execution_count": 7,
   "metadata": {},
   "outputs": [
    {
     "data": {
      "text/plain": [
       "'C3'"
      ]
     },
     "execution_count": 7,
     "metadata": {},
     "output_type": "execute_result"
    }
   ],
   "source": [
    "course_info.lecture_week_to_contents_id(lecture_week=3)"
   ]
  },
  {
   "cell_type": "code",
   "execution_count": 8,
   "metadata": {},
   "outputs": [
    {
     "data": {
      "text/plain": [
       "72.0"
      ]
     },
     "execution_count": 8,
     "metadata": {},
     "output_type": "execute_result"
    }
   ],
   "source": [
    "course_info.user_score(users[0])"
   ]
  },
  {
   "cell_type": "code",
   "execution_count": 9,
   "metadata": {},
   "outputs": [
    {
     "data": {
      "text/plain": [
       "[72.0, 72.0, 82.0, 75.0, 91.0]"
      ]
     },
     "execution_count": 9,
     "metadata": {},
     "output_type": "execute_result"
    }
   ],
   "source": [
    "course_info.user_score(users[0:5])"
   ]
  },
  {
   "cell_type": "code",
   "execution_count": 10,
   "metadata": {},
   "outputs": [
    {
     "data": {
      "text/plain": [
       "'C'"
      ]
     },
     "execution_count": 10,
     "metadata": {},
     "output_type": "execute_result"
    }
   ],
   "source": [
    "course_info.user_grade(users[0])"
   ]
  },
  {
   "cell_type": "code",
   "execution_count": 11,
   "metadata": {},
   "outputs": [
    {
     "data": {
      "text/plain": [
       "['C', 'C', 'B', 'C', 'A']"
      ]
     },
     "execution_count": 11,
     "metadata": {},
     "output_type": "execute_result"
    }
   ],
   "source": [
    "course_info.user_grade(users[0:5])"
   ]
  },
  {
   "cell_type": "code",
   "execution_count": 12,
   "metadata": {},
   "outputs": [
    {
     "data": {
      "text/plain": [
       "['A_U67', 'A_U102', 'A_U86', 'A_U24']"
      ]
     },
     "execution_count": 12,
     "metadata": {},
     "output_type": "execute_result"
    }
   ],
   "source": [
    "# high_score_users\n",
    "course_info.users_in_selected_score(users, top=100, bottom=90)"
   ]
  },
  {
   "cell_type": "code",
   "execution_count": 13,
   "metadata": {},
   "outputs": [
    {
     "data": {
      "text/plain": [
       "['A_U70', 'A_U115', 'A_U117']"
      ]
     },
     "execution_count": 13,
     "metadata": {},
     "output_type": "execute_result"
    }
   ],
   "source": [
    "# low_grade_users\n",
    "course_info.users_in_selected_grade(users, grade=\"F\")"
   ]
  },
  {
   "cell_type": "code",
   "execution_count": 14,
   "metadata": {},
   "outputs": [
    {
     "data": {
      "text/plain": [
       "Timestamp('2018-04-10 14:50:00')"
      ]
     },
     "execution_count": 14,
     "metadata": {},
     "output_type": "execute_result"
    }
   ],
   "source": [
    "course_info.lecture_start_time(lectures[0])"
   ]
  },
  {
   "cell_type": "code",
   "execution_count": 15,
   "metadata": {},
   "outputs": [
    {
     "data": {
      "text/plain": [
       "Timestamp('2018-04-10 16:20:00')"
      ]
     },
     "execution_count": 15,
     "metadata": {},
     "output_type": "execute_result"
    }
   ],
   "source": [
    "course_info.lecture_end_time(lectures[0])"
   ]
  },
  {
   "cell_type": "code",
   "execution_count": 17,
   "metadata": {},
   "outputs": [
    {
     "data": {
      "text/html": [
       "<div>\n",
       "<style scoped>\n",
       "    .dataframe tbody tr th:only-of-type {\n",
       "        vertical-align: middle;\n",
       "    }\n",
       "\n",
       "    .dataframe tbody tr th {\n",
       "        vertical-align: top;\n",
       "    }\n",
       "\n",
       "    .dataframe thead th {\n",
       "        text-align: right;\n",
       "    }\n",
       "</style>\n",
       "<table border=\"1\" class=\"dataframe\">\n",
       "  <thead>\n",
       "    <tr style=\"text-align: right;\">\n",
       "      <th></th>\n",
       "      <th>userid</th>\n",
       "      <th>contentsid</th>\n",
       "      <th>operationname</th>\n",
       "      <th>pageno</th>\n",
       "      <th>marker</th>\n",
       "      <th>memo_length</th>\n",
       "      <th>devicecode</th>\n",
       "      <th>eventtime</th>\n",
       "    </tr>\n",
       "  </thead>\n",
       "  <tbody>\n",
       "    <tr>\n",
       "      <th>0</th>\n",
       "      <td>A_U1</td>\n",
       "      <td>C1</td>\n",
       "      <td>PREV</td>\n",
       "      <td>10</td>\n",
       "      <td>NaN</td>\n",
       "      <td>0</td>\n",
       "      <td>tablet</td>\n",
       "      <td>2018-04-09 10:57:15</td>\n",
       "    </tr>\n",
       "    <tr>\n",
       "      <th>1</th>\n",
       "      <td>A_U1</td>\n",
       "      <td>C1</td>\n",
       "      <td>PREV</td>\n",
       "      <td>9</td>\n",
       "      <td>NaN</td>\n",
       "      <td>0</td>\n",
       "      <td>tablet</td>\n",
       "      <td>2018-04-09 11:00:59</td>\n",
       "    </tr>\n",
       "    <tr>\n",
       "      <th>2</th>\n",
       "      <td>A_U1</td>\n",
       "      <td>C1</td>\n",
       "      <td>PREV</td>\n",
       "      <td>8</td>\n",
       "      <td>NaN</td>\n",
       "      <td>0</td>\n",
       "      <td>tablet</td>\n",
       "      <td>2018-04-09 11:03:31</td>\n",
       "    </tr>\n",
       "    <tr>\n",
       "      <th>3</th>\n",
       "      <td>A_U1</td>\n",
       "      <td>C1</td>\n",
       "      <td>PREV</td>\n",
       "      <td>30</td>\n",
       "      <td>NaN</td>\n",
       "      <td>0</td>\n",
       "      <td>tablet</td>\n",
       "      <td>2018-04-10 10:14:12</td>\n",
       "    </tr>\n",
       "    <tr>\n",
       "      <th>4</th>\n",
       "      <td>A_U1</td>\n",
       "      <td>C1</td>\n",
       "      <td>PREV</td>\n",
       "      <td>29</td>\n",
       "      <td>NaN</td>\n",
       "      <td>0</td>\n",
       "      <td>tablet</td>\n",
       "      <td>2018-04-10 10:27:24</td>\n",
       "    </tr>\n",
       "    <tr>\n",
       "      <th>...</th>\n",
       "      <td>...</td>\n",
       "      <td>...</td>\n",
       "      <td>...</td>\n",
       "      <td>...</td>\n",
       "      <td>...</td>\n",
       "      <td>...</td>\n",
       "      <td>...</td>\n",
       "      <td>...</td>\n",
       "    </tr>\n",
       "    <tr>\n",
       "      <th>263279</th>\n",
       "      <td>A_U99</td>\n",
       "      <td>C8</td>\n",
       "      <td>NEXT</td>\n",
       "      <td>3</td>\n",
       "      <td>NaN</td>\n",
       "      <td>0</td>\n",
       "      <td>pc</td>\n",
       "      <td>2018-06-05 16:16:18</td>\n",
       "    </tr>\n",
       "    <tr>\n",
       "      <th>263280</th>\n",
       "      <td>A_U99</td>\n",
       "      <td>C8</td>\n",
       "      <td>ADD MARKER</td>\n",
       "      <td>4</td>\n",
       "      <td>difficult</td>\n",
       "      <td>0</td>\n",
       "      <td>pc</td>\n",
       "      <td>2018-06-05 16:18:34</td>\n",
       "    </tr>\n",
       "    <tr>\n",
       "      <th>263281</th>\n",
       "      <td>A_U99</td>\n",
       "      <td>C8</td>\n",
       "      <td>NEXT</td>\n",
       "      <td>4</td>\n",
       "      <td>NaN</td>\n",
       "      <td>0</td>\n",
       "      <td>pc</td>\n",
       "      <td>2018-06-05 16:19:24</td>\n",
       "    </tr>\n",
       "    <tr>\n",
       "      <th>263282</th>\n",
       "      <td>A_U99</td>\n",
       "      <td>C8</td>\n",
       "      <td>NEXT</td>\n",
       "      <td>5</td>\n",
       "      <td>NaN</td>\n",
       "      <td>0</td>\n",
       "      <td>pc</td>\n",
       "      <td>2018-06-05 16:20:45</td>\n",
       "    </tr>\n",
       "    <tr>\n",
       "      <th>263283</th>\n",
       "      <td>A_U99</td>\n",
       "      <td>C8</td>\n",
       "      <td>PREV</td>\n",
       "      <td>6</td>\n",
       "      <td>NaN</td>\n",
       "      <td>0</td>\n",
       "      <td>pc</td>\n",
       "      <td>2018-06-05 16:21:03</td>\n",
       "    </tr>\n",
       "  </tbody>\n",
       "</table>\n",
       "<p>263284 rows × 8 columns</p>\n",
       "</div>"
      ],
      "text/plain": [
       "       userid contentsid operationname  pageno     marker  memo_length  \\\n",
       "0        A_U1         C1          PREV      10        NaN            0   \n",
       "1        A_U1         C1          PREV       9        NaN            0   \n",
       "2        A_U1         C1          PREV       8        NaN            0   \n",
       "3        A_U1         C1          PREV      30        NaN            0   \n",
       "4        A_U1         C1          PREV      29        NaN            0   \n",
       "...       ...        ...           ...     ...        ...          ...   \n",
       "263279  A_U99         C8          NEXT       3        NaN            0   \n",
       "263280  A_U99         C8    ADD MARKER       4  difficult            0   \n",
       "263281  A_U99         C8          NEXT       4        NaN            0   \n",
       "263282  A_U99         C8          NEXT       5        NaN            0   \n",
       "263283  A_U99         C8          PREV       6        NaN            0   \n",
       "\n",
       "       devicecode            eventtime  \n",
       "0          tablet  2018-04-09 10:57:15  \n",
       "1          tablet  2018-04-09 11:00:59  \n",
       "2          tablet  2018-04-09 11:03:31  \n",
       "3          tablet  2018-04-10 10:14:12  \n",
       "4          tablet  2018-04-10 10:27:24  \n",
       "...           ...                  ...  \n",
       "263279         pc  2018-06-05 16:16:18  \n",
       "263280         pc  2018-06-05 16:18:34  \n",
       "263281         pc  2018-06-05 16:19:24  \n",
       "263282         pc  2018-06-05 16:20:45  \n",
       "263283         pc  2018-06-05 16:21:03  \n",
       "\n",
       "[263284 rows x 8 columns]"
      ]
     },
     "execution_count": 17,
     "metadata": {},
     "output_type": "execute_result"
    }
   ],
   "source": [
    "event_stream = course_info.load_eventstream()\n",
    "event_stream.df"
   ]
  },
  {
   "cell_type": "code",
   "execution_count": 20,
   "metadata": {},
   "outputs": [],
   "source": [
    "# Course information and event stream can be got simultaneously\n",
    "course_info, event_stream = la.start_analysis(files_dir=files_dir, course_id=\"A\")"
   ]
  }
 ],
 "metadata": {
  "interpreter": {
   "hash": "e7cb1b9ae4d417fedf7f40a8eec98f7cfbd359e096bd857395a915f4609834ce"
  },
  "kernelspec": {
   "display_name": "Python 3.8.11 ('base')",
   "language": "python",
   "name": "python3"
  },
  "language_info": {
   "codemirror_mode": {
    "name": "ipython",
    "version": 3
   },
   "file_extension": ".py",
   "mimetype": "text/x-python",
   "name": "python",
   "nbconvert_exporter": "python",
   "pygments_lexer": "ipython3",
   "version": "3.8.11"
  },
  "orig_nbformat": 4
 },
 "nbformat": 4,
 "nbformat_minor": 2
}
