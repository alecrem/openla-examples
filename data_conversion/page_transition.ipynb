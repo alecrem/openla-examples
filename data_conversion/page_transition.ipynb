{
 "cells": [
  {
   "cell_type": "code",
   "execution_count": 1,
   "metadata": {},
   "outputs": [],
   "source": [
    "# https://limu.ait.kyushu-u.ac.jp/~openLA/jupyter_examples/example_transition.html\n",
    "import OpenLA as la\n",
    "files_dir = '../../OpenLA/dummy_dataset'\n",
    "course_info, event_stream = la.start_analysis(files_dir=files_dir, course_id=\"A\")"
   ]
  },
  {
   "cell_type": "code",
   "execution_count": 7,
   "metadata": {},
   "outputs": [],
   "source": [
    "operations = [\"NEXT\", \"PREV\", \"ADD MARKER\"]\n",
    "page_transition = la.convert_into_page_transition(event_stream,\n",
    "                                                  invalid_seconds=10,\n",
    "                                                  timeout_seconds=30*60,\n",
    "                                                  user_id=event_stream.user_id()[:10],\n",
    "                                                  contents_id=event_stream.contents_id()[0],\n",
    "                                                  operation_name=operations,\n",
    "                                                  count_operation=True\n",
    "                                                  )\n"
   ]
  },
  {
   "cell_type": "markdown",
   "metadata": {},
   "source": [
    "## Behavior in each page with consideration page transition, e.g. going back and jumping page"
   ]
  },
  {
   "cell_type": "code",
   "execution_count": 8,
   "metadata": {},
   "outputs": [],
   "source": [
    "page_transition = la.convert_into_page_transition(event_stream=event_stream,\n",
    "                                                  user_id=course_info.user_id()[:5],\n",
    "                                                  contents_id=\"C1\",\n",
    "                                                  invalid_seconds=5,\n",
    "                                                  timeout_seconds=20*60,\n",
    "                                                  count_operation=True,\n",
    "                                                  operation_name=[\"ADD MARKER\", \"ADD MEMO\", \"ADD BOOKMARK\"],\n",
    "                                                  separate_marker_type=False)"
   ]
  },
  {
   "cell_type": "code",
   "execution_count": 11,
   "metadata": {},
   "outputs": [
    {
     "data": {
      "text/html": [
       "<div>\n",
       "<style scoped>\n",
       "    .dataframe tbody tr th:only-of-type {\n",
       "        vertical-align: middle;\n",
       "    }\n",
       "\n",
       "    .dataframe tbody tr th {\n",
       "        vertical-align: top;\n",
       "    }\n",
       "\n",
       "    .dataframe thead th {\n",
       "        text-align: right;\n",
       "    }\n",
       "</style>\n",
       "<table border=\"1\" class=\"dataframe\">\n",
       "  <thead>\n",
       "    <tr style=\"text-align: right;\">\n",
       "      <th></th>\n",
       "      <th>userid</th>\n",
       "      <th>contentsid</th>\n",
       "      <th>pageno</th>\n",
       "      <th>reading_seconds</th>\n",
       "      <th>time_of_entry</th>\n",
       "      <th>time_of_exit</th>\n",
       "      <th>ADD MARKER</th>\n",
       "      <th>ADD MEMO</th>\n",
       "      <th>ADD BOOKMARK</th>\n",
       "    </tr>\n",
       "  </thead>\n",
       "  <tbody>\n",
       "    <tr>\n",
       "      <th>0</th>\n",
       "      <td>A_U1</td>\n",
       "      <td>C1</td>\n",
       "      <td>9</td>\n",
       "      <td>224</td>\n",
       "      <td>2018-04-09 10:57:15</td>\n",
       "      <td>2018-04-09 11:00:59</td>\n",
       "      <td>0</td>\n",
       "      <td>0</td>\n",
       "      <td>0</td>\n",
       "    </tr>\n",
       "    <tr>\n",
       "      <th>1</th>\n",
       "      <td>A_U1</td>\n",
       "      <td>C1</td>\n",
       "      <td>8</td>\n",
       "      <td>152</td>\n",
       "      <td>2018-04-09 11:00:59</td>\n",
       "      <td>2018-04-09 11:03:31</td>\n",
       "      <td>0</td>\n",
       "      <td>0</td>\n",
       "      <td>0</td>\n",
       "    </tr>\n",
       "    <tr>\n",
       "      <th>2</th>\n",
       "      <td>A_U1</td>\n",
       "      <td>C1</td>\n",
       "      <td>29</td>\n",
       "      <td>792</td>\n",
       "      <td>2018-04-10 10:14:12</td>\n",
       "      <td>2018-04-10 10:27:24</td>\n",
       "      <td>0</td>\n",
       "      <td>0</td>\n",
       "      <td>0</td>\n",
       "    </tr>\n",
       "    <tr>\n",
       "      <th>3</th>\n",
       "      <td>A_U1</td>\n",
       "      <td>C1</td>\n",
       "      <td>27</td>\n",
       "      <td>595</td>\n",
       "      <td>2018-04-10 10:27:24</td>\n",
       "      <td>2018-04-10 10:37:19</td>\n",
       "      <td>0</td>\n",
       "      <td>0</td>\n",
       "      <td>0</td>\n",
       "    </tr>\n",
       "    <tr>\n",
       "      <th>4</th>\n",
       "      <td>A_U1</td>\n",
       "      <td>C1</td>\n",
       "      <td>28</td>\n",
       "      <td>99</td>\n",
       "      <td>2018-04-10 15:13:55</td>\n",
       "      <td>2018-04-10 15:15:34</td>\n",
       "      <td>0</td>\n",
       "      <td>0</td>\n",
       "      <td>0</td>\n",
       "    </tr>\n",
       "    <tr>\n",
       "      <th>...</th>\n",
       "      <td>...</td>\n",
       "      <td>...</td>\n",
       "      <td>...</td>\n",
       "      <td>...</td>\n",
       "      <td>...</td>\n",
       "      <td>...</td>\n",
       "      <td>...</td>\n",
       "      <td>...</td>\n",
       "      <td>...</td>\n",
       "    </tr>\n",
       "    <tr>\n",
       "      <th>1333</th>\n",
       "      <td>A_U102</td>\n",
       "      <td>C1</td>\n",
       "      <td>9</td>\n",
       "      <td>23</td>\n",
       "      <td>2018-06-05 16:12:20</td>\n",
       "      <td>2018-06-05 16:12:43</td>\n",
       "      <td>1</td>\n",
       "      <td>0</td>\n",
       "      <td>0</td>\n",
       "    </tr>\n",
       "    <tr>\n",
       "      <th>1334</th>\n",
       "      <td>A_U102</td>\n",
       "      <td>C1</td>\n",
       "      <td>51</td>\n",
       "      <td>63</td>\n",
       "      <td>2018-06-05 16:12:43</td>\n",
       "      <td>2018-06-05 16:13:46</td>\n",
       "      <td>0</td>\n",
       "      <td>0</td>\n",
       "      <td>0</td>\n",
       "    </tr>\n",
       "    <tr>\n",
       "      <th>1335</th>\n",
       "      <td>A_U102</td>\n",
       "      <td>C1</td>\n",
       "      <td>47</td>\n",
       "      <td>330</td>\n",
       "      <td>2018-06-05 16:13:46</td>\n",
       "      <td>2018-06-05 16:19:16</td>\n",
       "      <td>0</td>\n",
       "      <td>0</td>\n",
       "      <td>0</td>\n",
       "    </tr>\n",
       "    <tr>\n",
       "      <th>1336</th>\n",
       "      <td>A_U102</td>\n",
       "      <td>C1</td>\n",
       "      <td>48</td>\n",
       "      <td>330</td>\n",
       "      <td>2018-06-05 16:19:16</td>\n",
       "      <td>2018-06-05 16:24:46</td>\n",
       "      <td>1</td>\n",
       "      <td>0</td>\n",
       "      <td>0</td>\n",
       "    </tr>\n",
       "    <tr>\n",
       "      <th>1337</th>\n",
       "      <td>A_U102</td>\n",
       "      <td>C1</td>\n",
       "      <td>23</td>\n",
       "      <td>473</td>\n",
       "      <td>2018-06-05 16:24:46</td>\n",
       "      <td>2018-06-05 16:32:39</td>\n",
       "      <td>0</td>\n",
       "      <td>0</td>\n",
       "      <td>0</td>\n",
       "    </tr>\n",
       "  </tbody>\n",
       "</table>\n",
       "<p>1338 rows × 9 columns</p>\n",
       "</div>"
      ],
      "text/plain": [
       "      userid contentsid  pageno  reading_seconds       time_of_entry  \\\n",
       "0       A_U1         C1       9              224 2018-04-09 10:57:15   \n",
       "1       A_U1         C1       8              152 2018-04-09 11:00:59   \n",
       "2       A_U1         C1      29              792 2018-04-10 10:14:12   \n",
       "3       A_U1         C1      27              595 2018-04-10 10:27:24   \n",
       "4       A_U1         C1      28               99 2018-04-10 15:13:55   \n",
       "...      ...        ...     ...              ...                 ...   \n",
       "1333  A_U102         C1       9               23 2018-06-05 16:12:20   \n",
       "1334  A_U102         C1      51               63 2018-06-05 16:12:43   \n",
       "1335  A_U102         C1      47              330 2018-06-05 16:13:46   \n",
       "1336  A_U102         C1      48              330 2018-06-05 16:19:16   \n",
       "1337  A_U102         C1      23              473 2018-06-05 16:24:46   \n",
       "\n",
       "            time_of_exit  ADD MARKER  ADD MEMO  ADD BOOKMARK  \n",
       "0    2018-04-09 11:00:59           0         0             0  \n",
       "1    2018-04-09 11:03:31           0         0             0  \n",
       "2    2018-04-10 10:27:24           0         0             0  \n",
       "3    2018-04-10 10:37:19           0         0             0  \n",
       "4    2018-04-10 15:15:34           0         0             0  \n",
       "...                  ...         ...       ...           ...  \n",
       "1333 2018-06-05 16:12:43           1         0             0  \n",
       "1334 2018-06-05 16:13:46           0         0             0  \n",
       "1335 2018-06-05 16:19:16           0         0             0  \n",
       "1336 2018-06-05 16:24:46           1         0             0  \n",
       "1337 2018-06-05 16:32:39           0         0             0  \n",
       "\n",
       "[1338 rows x 9 columns]"
      ]
     },
     "execution_count": 11,
     "metadata": {},
     "output_type": "execute_result"
    }
   ],
   "source": [
    "page_transition.df"
   ]
  },
  {
   "cell_type": "code",
   "execution_count": 12,
   "metadata": {},
   "outputs": [
    {
     "data": {
      "text/plain": [
       "5"
      ]
     },
     "execution_count": 12,
     "metadata": {},
     "output_type": "execute_result"
    }
   ],
   "source": [
    "page_transition.num_users()"
   ]
  },
  {
   "cell_type": "code",
   "execution_count": 13,
   "metadata": {},
   "outputs": [
    {
     "data": {
      "text/plain": [
       "['A_U1', 'A_U10', 'A_U100', 'A_U101', 'A_U102']"
      ]
     },
     "execution_count": 13,
     "metadata": {},
     "output_type": "execute_result"
    }
   ],
   "source": [
    "page_transition.user_id()"
   ]
  },
  {
   "cell_type": "code",
   "execution_count": 14,
   "metadata": {},
   "outputs": [
    {
     "data": {
      "text/plain": [
       "['C1']"
      ]
     },
     "execution_count": 14,
     "metadata": {},
     "output_type": "execute_result"
    }
   ],
   "source": [
    "page_transition.contents_id()"
   ]
  },
  {
   "cell_type": "code",
   "execution_count": 15,
   "metadata": {},
   "outputs": [
    {
     "data": {
      "text/plain": [
       "['ADD MARKER', 'ADD MEMO', 'ADD BOOKMARK']"
      ]
     },
     "execution_count": 15,
     "metadata": {},
     "output_type": "execute_result"
    }
   ],
   "source": [
    "page_transition.operation_name()"
   ]
  },
  {
   "cell_type": "code",
   "execution_count": 16,
   "metadata": {},
   "outputs": [
    {
     "data": {
      "text/plain": [
       "2"
      ]
     },
     "execution_count": 16,
     "metadata": {},
     "output_type": "execute_result"
    }
   ],
   "source": [
    "page_transition.operation_count(operation_name=\"ADD MARKER\",\n",
    "                                user_id=\"A_U1\",\n",
    "                                contents_id=\"C1\")"
   ]
  },
  {
   "cell_type": "code",
   "execution_count": 17,
   "metadata": {},
   "outputs": [
    {
     "data": {
      "text/plain": [
       "{'ADD MARKER': 2, 'ADD BOOKMARK': 3}"
      ]
     },
     "execution_count": 17,
     "metadata": {},
     "output_type": "execute_result"
    }
   ],
   "source": [
    "page_transition.operation_count(operation_name=[\"ADD MARKER\", \"ADD BOOKMARK\"],\n",
    "                                user_id=\"A_U1\",\n",
    "                                contents_id=\"C1\")"
   ]
  },
  {
   "cell_type": "code",
   "execution_count": 18,
   "metadata": {},
   "outputs": [
    {
     "data": {
      "text/plain": [
       "67"
      ]
     },
     "execution_count": 18,
     "metadata": {},
     "output_type": "execute_result"
    }
   ],
   "source": [
    "page_transition.num_unique_pages(user_id=\"A_U1\", contents_id=\"C1\")"
   ]
  },
  {
   "cell_type": "code",
   "execution_count": 19,
   "metadata": {},
   "outputs": [
    {
     "data": {
      "text/plain": [
       "42748"
      ]
     },
     "execution_count": 19,
     "metadata": {},
     "output_type": "execute_result"
    }
   ],
   "source": [
    "page_transition.reading_seconds(user_id=\"A_U1\", contents_id=\"C1\")"
   ]
  },
  {
   "cell_type": "code",
   "execution_count": 21,
   "metadata": {},
   "outputs": [
    {
     "data": {
      "text/plain": [
       "11.874444444444444"
      ]
     },
     "execution_count": 21,
     "metadata": {},
     "output_type": "execute_result"
    }
   ],
   "source": [
    "page_transition.reading_time(time_unit=\"hours\", user_id=\"A_U1\", contents_id=\"C1\")"
   ]
  },
  {
   "cell_type": "code",
   "execution_count": 22,
   "metadata": {},
   "outputs": [
    {
     "data": {
      "text/plain": [
       "363"
      ]
     },
     "execution_count": 22,
     "metadata": {},
     "output_type": "execute_result"
    }
   ],
   "source": [
    "page_transition.num_transition(user_id=\"A_U1\", contents_id=\"C1\")"
   ]
  }
 ],
 "metadata": {
  "interpreter": {
   "hash": "e7cb1b9ae4d417fedf7f40a8eec98f7cfbd359e096bd857395a915f4609834ce"
  },
  "kernelspec": {
   "display_name": "Python 3.8.11 ('base')",
   "language": "python",
   "name": "python3"
  },
  "language_info": {
   "codemirror_mode": {
    "name": "ipython",
    "version": 3
   },
   "file_extension": ".py",
   "mimetype": "text/x-python",
   "name": "python",
   "nbconvert_exporter": "python",
   "pygments_lexer": "ipython3",
   "version": "3.8.11"
  },
  "orig_nbformat": 4
 },
 "nbformat": 4,
 "nbformat_minor": 2
}
