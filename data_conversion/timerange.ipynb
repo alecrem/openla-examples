{
 "cells": [
  {
   "cell_type": "code",
   "execution_count": 2,
   "metadata": {},
   "outputs": [],
   "source": [
    "# https://limu.ait.kyushu-u.ac.jp/~openLA/jupyter_examples/example_timerange.html\n",
    "import OpenLA as la\n",
    "files_dir = '../../OpenLA/dummy_dataset'\n",
    "course_info, event_stream = la.start_analysis(files_dir=files_dir, course_id=\"A\")"
   ]
  },
  {
   "cell_type": "code",
   "execution_count": 3,
   "metadata": {},
   "outputs": [],
   "source": [
    "intervals = la.convert_into_time_range(course_info=course_info,\n",
    "                                    event_stream=event_stream,\n",
    "                                    interval_seconds=60,\n",
    "                                    contents_id=\"C1\",\n",
    "                                    user_id=course_info.user_id()[:5],\n",
    "                                    lecture_week=2,\n",
    "                                    start_time='start_of_lecture',\n",
    "                                    end_time='end_of_lecture',\n",
    "                                    time_range_basis='minutes',\n",
    "                                    count_operation=True,\n",
    "                                    operation_name=[\"ADD MARKER\", \"ADD MEMO\", \"ADD BOOKMARK\"])"
   ]
  },
  {
   "cell_type": "code",
   "execution_count": 4,
   "metadata": {},
   "outputs": [
    {
     "data": {
      "text/plain": [
       "5"
      ]
     },
     "execution_count": 4,
     "metadata": {},
     "output_type": "execute_result"
    }
   ],
   "source": [
    "intervals.num_users()"
   ]
  },
  {
   "cell_type": "code",
   "execution_count": 5,
   "metadata": {},
   "outputs": [
    {
     "data": {
      "text/plain": [
       "['A_U1', 'A_U10', 'A_U100', 'A_U101', 'A_U102']"
      ]
     },
     "execution_count": 5,
     "metadata": {},
     "output_type": "execute_result"
    }
   ],
   "source": [
    "intervals.user_id()"
   ]
  },
  {
   "cell_type": "code",
   "execution_count": 6,
   "metadata": {},
   "outputs": [
    {
     "data": {
      "text/plain": [
       "['C1']"
      ]
     },
     "execution_count": 6,
     "metadata": {},
     "output_type": "execute_result"
    }
   ],
   "source": [
    "intervals.contents_id()"
   ]
  },
  {
   "cell_type": "code",
   "execution_count": 7,
   "metadata": {},
   "outputs": [
    {
     "data": {
      "text/plain": [
       "['ADD MARKER', 'ADD MEMO', 'ADD BOOKMARK']"
      ]
     },
     "execution_count": 7,
     "metadata": {},
     "output_type": "execute_result"
    }
   ],
   "source": [
    "intervals.operation_name()"
   ]
  },
  {
   "cell_type": "code",
   "execution_count": 9,
   "metadata": {},
   "outputs": [
    {
     "data": {
      "text/plain": [
       "1"
      ]
     },
     "execution_count": 9,
     "metadata": {},
     "output_type": "execute_result"
    }
   ],
   "source": [
    "intervals.operation_count(operation_name=\"ADD MARKER\",\n",
    "                          user_id=\"A_U10\",\n",
    "                          contents_id=\"C1\")"
   ]
  },
  {
   "cell_type": "code",
   "execution_count": 11,
   "metadata": {},
   "outputs": [
    {
     "data": {
      "text/plain": [
       "{'ADD MARKER': 1, 'ADD BOOKMARK': 0}"
      ]
     },
     "execution_count": 11,
     "metadata": {},
     "output_type": "execute_result"
    }
   ],
   "source": [
    "intervals.operation_count(operation_name=[\"ADD MARKER\", \"ADD BOOKMARK\"],\n",
    "                          user_id=\"A_U10\",\n",
    "                          contents_id=\"C1\")"
   ]
  },
  {
   "cell_type": "code",
   "execution_count": 12,
   "metadata": {},
   "outputs": [
    {
     "data": {
      "text/plain": [
       "<AxesSubplot:xlabel='elapsed minutes', ylabel='operation count'>"
      ]
     },
     "execution_count": 12,
     "metadata": {},
     "output_type": "execute_result"
    },
    {
     "data": {
      "image/png": "[encoded data removed]",
      "text/plain": [
       "<Figure size 576x288 with 1 Axes>"
      ]
     },
     "metadata": {
      "needs_background": "light"
     },
     "output_type": "display_data"
    }
   ],
   "source": [
    "la.visualize_operation_in_time_range(intervals,\n",
    "                                    contents_id=\"C1\",\n",
    "                                    user_id=None,\n",
    "                                    operation_name=None,\n",
    "                                    calculate_type=\"average\",\n",
    "                                    operation_bar_colors=None,\n",
    "                                    xlabel=None,\n",
    "                                    ylabel=None,\n",
    "                                    ax=None,\n",
    "                                    figsize=(8, 4),\n",
    "                                    save_file=None)"
   ]
  },
  {
   "cell_type": "code",
   "execution_count": 13,
   "metadata": {},
   "outputs": [
    {
     "data": {
      "text/plain": [
       "<AxesSubplot:xlabel='elapsed minutes', ylabel='page'>"
      ]
     },
     "execution_count": 13,
     "metadata": {},
     "output_type": "execute_result"
    },
    {
     "data": {
      "image/png": "[encoded data removed]",
      "text/plain": [
       "<Figure size 432x288 with 1 Axes>"
      ]
     },
     "metadata": {
      "needs_background": "light"
     },
     "output_type": "display_data"
    }
   ],
   "source": [
    "la.visualize_pages_in_time_range(intervals,\n",
    "                                contents_id=course_info.contents_id()[0],\n",
    "                                user_id=None,\n",
    "                                xlabel=None,\n",
    "                                ylabel=None, ax=None,\n",
    "                                figsize=None,\n",
    "                                show_legend=False,\n",
    "                                save_file=None)\n",
    "\n"
   ]
  }
 ],
 "metadata": {
  "interpreter": {
   "hash": "e7cb1b9ae4d417fedf7f40a8eec98f7cfbd359e096bd857395a915f4609834ce"
  },
  "kernelspec": {
   "display_name": "Python 3.8.11 ('base')",
   "language": "python",
   "name": "python3"
  },
  "language_info": {
   "codemirror_mode": {
    "name": "ipython",
    "version": 3
   },
   "file_extension": ".py",
   "mimetype": "text/x-python",
   "name": "python",
   "nbconvert_exporter": "python",
   "pygments_lexer": "ipython3",
   "version": "3.8.11"
  },
  "orig_nbformat": 4
 },
 "nbformat": 4,
 "nbformat_minor": 2
}
