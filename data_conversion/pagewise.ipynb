{
 "cells": [
  {
   "cell_type": "code",
   "execution_count": 1,
   "metadata": {},
   "outputs": [],
   "source": [
    "# https://limu.ait.kyushu-u.ac.jp/~openLA/jupyter_examples/example_pagewise.html\n",
    "import OpenLA as la\n",
    "files_dir = '../OpenLA/dummy_dataset'\n",
    "course_info, event_stream = la.start_analysis(files_dir=files_dir, course_id=\"A\")"
   ]
  },
  {
   "cell_type": "code",
   "execution_count": 3,
   "metadata": {},
   "outputs": [],
   "source": [
    "behavior_each_page = la.convert_into_page_wise(event_stream=event_stream,\n",
    "                                            user_id=course_info.user_id()[:5],\n",
    "                                            contents_id=None,\n",
    "                                            invalid_seconds=5,\n",
    "                                            timeout_seconds=20*60,\n",
    "                                            count_operation=True,\n",
    "                                            operation_name=[\"OPEN\", \"CLOSE\", \"ADD MARKER\", \"ADD MEMO\", \"ADD BOOKMARK\"],\n",
    "                                            separate_marker_type=False)"
   ]
  },
  {
   "cell_type": "code",
   "execution_count": 4,
   "metadata": {},
   "outputs": [
    {
     "data": {
      "text/plain": [
       "5"
      ]
     },
     "execution_count": 4,
     "metadata": {},
     "output_type": "execute_result"
    }
   ],
   "source": [
    "behavior_each_page.num_users()"
   ]
  },
  {
   "cell_type": "code",
   "execution_count": 5,
   "metadata": {},
   "outputs": [
    {
     "data": {
      "text/plain": [
       "['A_U1', 'A_U10', 'A_U100', 'A_U101', 'A_U102']"
      ]
     },
     "execution_count": 5,
     "metadata": {},
     "output_type": "execute_result"
    }
   ],
   "source": [
    "behavior_each_page.user_id()"
   ]
  },
  {
   "cell_type": "code",
   "execution_count": 6,
   "metadata": {},
   "outputs": [
    {
     "data": {
      "text/plain": [
       "['C1', 'C2', 'C3', 'C4', 'C5', 'C7', 'C8', 'C6']"
      ]
     },
     "execution_count": 6,
     "metadata": {},
     "output_type": "execute_result"
    }
   ],
   "source": [
    "behavior_each_page.contents_id()"
   ]
  },
  {
   "cell_type": "code",
   "execution_count": 7,
   "metadata": {},
   "outputs": [
    {
     "data": {
      "text/plain": [
       "['OPEN', 'CLOSE', 'ADD MARKER', 'ADD MEMO', 'ADD BOOKMARK']"
      ]
     },
     "execution_count": 7,
     "metadata": {},
     "output_type": "execute_result"
    }
   ],
   "source": [
    "behavior_each_page.operation_name() "
   ]
  },
  {
   "cell_type": "code",
   "execution_count": 8,
   "metadata": {},
   "outputs": [
    {
     "data": {
      "text/plain": [
       "2"
      ]
     },
     "execution_count": 8,
     "metadata": {},
     "output_type": "execute_result"
    }
   ],
   "source": [
    "behavior_each_page.operation_count(operation_name=\"ADD MARKER\",\n",
    "                                   user_id=\"A_U1\",\n",
    "                                   contents_id=\"C1\")\n"
   ]
  },
  {
   "cell_type": "code",
   "execution_count": 9,
   "metadata": {},
   "outputs": [
    {
     "data": {
      "text/plain": [
       "{'ADD MARKER': 2, 'ADD BOOKMARK': 3}"
      ]
     },
     "execution_count": 9,
     "metadata": {},
     "output_type": "execute_result"
    }
   ],
   "source": [
    "behavior_each_page.operation_count(operation_name=[\"ADD MARKER\", \"ADD BOOKMARK\"],\n",
    "                                   user_id=\"A_U1\",\n",
    "                                   contents_id=\"C1\")"
   ]
  },
  {
   "cell_type": "code",
   "execution_count": 10,
   "metadata": {},
   "outputs": [
    {
     "data": {
      "text/plain": [
       "67"
      ]
     },
     "execution_count": 10,
     "metadata": {},
     "output_type": "execute_result"
    }
   ],
   "source": [
    "behavior_each_page.num_unique_pages(user_id=\"A_U1\", contents_id=\"C1\")"
   ]
  },
  {
   "cell_type": "code",
   "execution_count": 11,
   "metadata": {},
   "outputs": [
    {
     "data": {
      "text/plain": [
       "42748"
      ]
     },
     "execution_count": 11,
     "metadata": {},
     "output_type": "execute_result"
    }
   ],
   "source": [
    "behavior_each_page.reading_seconds(user_id=\"A_U1\", contents_id=\"C1\")"
   ]
  },
  {
   "cell_type": "code",
   "execution_count": 12,
   "metadata": {},
   "outputs": [
    {
     "data": {
      "text/plain": [
       "11.874444444444444"
      ]
     },
     "execution_count": 12,
     "metadata": {},
     "output_type": "execute_result"
    }
   ],
   "source": [
    "behavior_each_page.reading_time(time_unit=\"hours\", user_id=\"A_U1\", contents_id=\"C1\")"
   ]
  },
  {
   "cell_type": "code",
   "execution_count": 13,
   "metadata": {},
   "outputs": [
    {
     "data": {
      "text/plain": [
       "(<AxesSubplot:xlabel='Page', ylabel='Operation count'>,\n",
       " <AxesSubplot:xlabel='Page', ylabel='Reading minutes in the page'>)"
      ]
     },
     "execution_count": 13,
     "metadata": {},
     "output_type": "execute_result"
    },
    {
     "data": {
      "image/png": "[encoded data removed]",
      "text/plain": [
       "<Figure size 1440x720 with 2 Axes>"
      ]
     },
     "metadata": {
      "needs_background": "light"
     },
     "output_type": "display_data"
    }
   ],
   "source": [
    "la.visualize_behavior_in_pages(behavior_each_page,\n",
    "                               user_id=None,\n",
    "                               contents_id=\"C6\",\n",
    "                               is_plot_operation=True,\n",
    "                               is_plot_reading_time=True,\n",
    "                               operation_name=None,\n",
    "                               reading_time_basis=\"minutes\",\n",
    "                               calculate_type=\"average\",\n",
    "                               operation_bar_colors=None,\n",
    "                               reading_time_color=\"brown\",\n",
    "                               figsize=(20, 10),\n",
    "                               fontsize=18,\n",
    "                               save_file=None)"
   ]
  }
 ],
 "metadata": {
  "interpreter": {
   "hash": "e7cb1b9ae4d417fedf7f40a8eec98f7cfbd359e096bd857395a915f4609834ce"
  },
  "kernelspec": {
   "display_name": "Python 3.8.11 ('base')",
   "language": "python",
   "name": "python3"
  },
  "language_info": {
   "codemirror_mode": {
    "name": "ipython",
    "version": 3
   },
   "file_extension": ".py",
   "mimetype": "text/x-python",
   "name": "python",
   "nbconvert_exporter": "python",
   "pygments_lexer": "ipython3",
   "version": "3.8.11"
  },
  "orig_nbformat": 4
 },
 "nbformat": 4,
 "nbformat_minor": 2
}
